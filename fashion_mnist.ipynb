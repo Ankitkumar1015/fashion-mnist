{
  "nbformat": 4,
  "nbformat_minor": 0,
  "metadata": {
    "colab": {
      "provenance": [],
      "include_colab_link": true
    },
    "kernelspec": {
      "name": "python3",
      "display_name": "Python 3"
    },
    "language_info": {
      "name": "python"
    }
  },
  "cells": [
    {
      "cell_type": "markdown",
      "metadata": {
        "id": "view-in-github",
        "colab_type": "text"
      },
      "source": [
        "<a href=\"https://colab.research.google.com/github/Ankitkumar1015/fashion-mnist/blob/main/fashion_mnist.ipynb\" target=\"_parent\"><img src=\"https://colab.research.google.com/assets/colab-badge.svg\" alt=\"Open In Colab\"/></a>"
      ]
    },
    {
      "cell_type": "code",
      "execution_count": 2,
      "metadata": {
        "id": "Kf5ajQAFHjd9"
      },
      "outputs": [],
      "source": [
        "import numpy as np\n",
        "import pandas as pd\n",
        "\n",
        "import tensorflow as tf\n",
        "from tensorflow import keras\n",
        "from tensorflow.keras import layers\n",
        "\n",
        "\n",
        "import seaborn as sns\n",
        "from matplotlib import pyplot as plt\n",
        "from tensorflow.keras import models, layers\n",
        "from tensorflow.keras import callbacks\n",
        "from sklearn.metrics import confusion_matrix, classification_report"
      ]
    },
    {
      "cell_type": "code",
      "source": [
        "\n",
        "fashion_mnist = keras.datasets.fashion_mnist\n",
        "(train_images, train_labels), (test_images, test_labels) = fashion_mnist.load_data()"
      ],
      "metadata": {
        "id": "5ysiJb2hyCDh",
        "colab": {
          "base_uri": "https://localhost:8080/"
        },
        "outputId": "3028ee1b-0318-4700-8f8a-56107f45411f"
      },
      "execution_count": 3,
      "outputs": [
        {
          "output_type": "stream",
          "name": "stdout",
          "text": [
            "Downloading data from https://storage.googleapis.com/tensorflow/tf-keras-datasets/train-labels-idx1-ubyte.gz\n",
            "29515/29515 [==============================] - 0s 0us/step\n",
            "Downloading data from https://storage.googleapis.com/tensorflow/tf-keras-datasets/train-images-idx3-ubyte.gz\n",
            "26421880/26421880 [==============================] - 0s 0us/step\n",
            "Downloading data from https://storage.googleapis.com/tensorflow/tf-keras-datasets/t10k-labels-idx1-ubyte.gz\n",
            "5148/5148 [==============================] - 0s 0us/step\n",
            "Downloading data from https://storage.googleapis.com/tensorflow/tf-keras-datasets/t10k-images-idx3-ubyte.gz\n",
            "4422102/4422102 [==============================] - 0s 0us/step\n"
          ]
        }
      ]
    },
    {
      "cell_type": "code",
      "source": [
        "train_images = train_images / 255.0\n",
        "test_images = test_images / 255.0\n"
      ],
      "metadata": {
        "id": "SV0o2zMJc77F"
      },
      "execution_count": 4,
      "outputs": []
    },
    {
      "cell_type": "code",
      "source": [
        "model = keras.Sequential([\n",
        "    layers.Conv2D(32, (3, 3), activation='relu', input_shape=(28, 28, 1)),\n",
        "    layers.MaxPooling2D((2, 2)),\n",
        "    layers.Conv2D(64, (3, 3), activation='relu'),\n",
        "    layers.MaxPooling2D((2, 2)),\n",
        "    layers.Conv2D(64, (3, 3), activation='relu'),\n",
        "    layers.Flatten(),\n",
        "    layers.Dense(64, activation='relu'),\n",
        "    layers.Dense(10)\n",
        "])"
      ],
      "metadata": {
        "id": "IrTTzLuic_tU"
      },
      "execution_count": 5,
      "outputs": []
    },
    {
      "cell_type": "code",
      "source": [
        "model.compile(optimizer='adam',\n",
        "              loss=tf.keras.losses.SparseCategoricalCrossentropy(from_logits=True),\n",
        "              metrics=['accuracy'])"
      ],
      "metadata": {
        "id": "o41fqaABjH3i"
      },
      "execution_count": 6,
      "outputs": []
    },
    {
      "cell_type": "code",
      "source": [
        "model.fit(train_images.reshape(-1, 28, 28, 1), train_labels, epochs=10, validation_data=(test_images.reshape(-1, 28, 28, 1), test_labels))"
      ],
      "metadata": {
        "colab": {
          "base_uri": "https://localhost:8080/"
        },
        "id": "ZsQvNT-4jhKd",
        "outputId": "ca77f0ec-90b5-474e-afd6-a0632de729b3"
      },
      "execution_count": 8,
      "outputs": [
        {
          "output_type": "stream",
          "name": "stdout",
          "text": [
            "Epoch 1/10\n",
            "1875/1875 [==============================] - 54s 28ms/step - loss: 0.4959 - accuracy: 0.8199 - val_loss: 0.3810 - val_accuracy: 0.8610\n",
            "Epoch 2/10\n",
            "1875/1875 [==============================] - 50s 27ms/step - loss: 0.3234 - accuracy: 0.8814 - val_loss: 0.3205 - val_accuracy: 0.8798\n",
            "Epoch 3/10\n",
            "1875/1875 [==============================] - 50s 27ms/step - loss: 0.2764 - accuracy: 0.8978 - val_loss: 0.2973 - val_accuracy: 0.8908\n",
            "Epoch 4/10\n",
            "1875/1875 [==============================] - 49s 26ms/step - loss: 0.2470 - accuracy: 0.9079 - val_loss: 0.2696 - val_accuracy: 0.9009\n",
            "Epoch 5/10\n",
            "1875/1875 [==============================] - 51s 27ms/step - loss: 0.2228 - accuracy: 0.9172 - val_loss: 0.2604 - val_accuracy: 0.9064\n",
            "Epoch 6/10\n",
            "1875/1875 [==============================] - 51s 27ms/step - loss: 0.2041 - accuracy: 0.9235 - val_loss: 0.2551 - val_accuracy: 0.9072\n",
            "Epoch 7/10\n",
            "1875/1875 [==============================] - 50s 27ms/step - loss: 0.1866 - accuracy: 0.9295 - val_loss: 0.2649 - val_accuracy: 0.9034\n",
            "Epoch 8/10\n",
            "1875/1875 [==============================] - 50s 27ms/step - loss: 0.1704 - accuracy: 0.9357 - val_loss: 0.2531 - val_accuracy: 0.9104\n",
            "Epoch 9/10\n",
            "1875/1875 [==============================] - 50s 27ms/step - loss: 0.1564 - accuracy: 0.9400 - val_loss: 0.2849 - val_accuracy: 0.9060\n",
            "Epoch 10/10\n",
            "1875/1875 [==============================] - 54s 29ms/step - loss: 0.1436 - accuracy: 0.9457 - val_loss: 0.2890 - val_accuracy: 0.9060\n"
          ]
        },
        {
          "output_type": "execute_result",
          "data": {
            "text/plain": [
              "<keras.src.callbacks.History at 0x7dd503455780>"
            ]
          },
          "metadata": {},
          "execution_count": 8
        }
      ]
    },
    {
      "cell_type": "code",
      "source": [
        "test_loss, test_acc = model.evaluate(test_images.reshape(-1, 28, 28, 1), test_labels, verbose=2)\n",
        "print('\\nTest accuracy:', test_acc)"
      ],
      "metadata": {
        "colab": {
          "base_uri": "https://localhost:8080/"
        },
        "id": "HB6WZhF6jig1",
        "outputId": "3c357b20-fb10-4641-c599-1e93f7996fa6"
      },
      "execution_count": 7,
      "outputs": [
        {
          "output_type": "stream",
          "name": "stdout",
          "text": [
            "313/313 - 4s - loss: 2.3154 - accuracy: 0.0887 - 4s/epoch - 13ms/step\n",
            "\n",
            "Test accuracy: 0.08869999647140503\n"
          ]
        }
      ]
    }
  ]
}